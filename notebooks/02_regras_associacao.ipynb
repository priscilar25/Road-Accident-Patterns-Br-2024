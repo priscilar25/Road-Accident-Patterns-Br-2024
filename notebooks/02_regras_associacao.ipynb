{
 "cells": [
  {
   "cell_type": "markdown",
   "id": "34e18448",
   "metadata": {},
   "source": [
    "### Análise de Padrões em Acidentes Rodoviários no Brasil  2024 - Aprendizado de Máquina\n",
    "___\n",
    "#### **Objetivo**\n",
    "\n",
    "Realizar o pré-processamento dos dados tratados na etapta anterior de exploração para convertê‑los em um formato transacional adequado, aplicar mineração de dados com regras de associação (algoritmo Apriori) para descobrir coocorrências significativas entre características dos acidentes e avalia essas regras para identificar padrões de risco.\n",
    "___\n",
    "\n"
   ]
  },
  {
   "cell_type": "markdown",
   "id": "0575316c",
   "metadata": {},
   "source": [
    "#### Importação das bibliotecas "
   ]
  },
  {
   "cell_type": "code",
   "execution_count": 2,
   "id": "41789fad",
   "metadata": {},
   "outputs": [],
   "source": [
    "import pandas as pd\n",
    "import numpy as np\n",
    "from mlxtend.frequent_patterns import apriori, association_rules\n",
    "from mlxtend.preprocessing import TransactionEncoder"
   ]
  },
  {
   "cell_type": "markdown",
   "id": "1fb26dd1",
   "metadata": {},
   "source": [
    "#### Leitura do arquivo\n"
   ]
  },
  {
   "cell_type": "code",
   "execution_count": 3,
   "id": "b2617ade",
   "metadata": {},
   "outputs": [
    {
     "data": {
      "application/vnd.microsoft.datawrangler.viewer.v0+json": {
       "columns": [
        {
         "name": "index",
         "rawType": "int64",
         "type": "integer"
        },
        {
         "name": "id",
         "rawType": "float64",
         "type": "float"
        },
        {
         "name": "pesid",
         "rawType": "float64",
         "type": "float"
        },
        {
         "name": "data_inversa",
         "rawType": "object",
         "type": "string"
        },
        {
         "name": "dia_semana",
         "rawType": "object",
         "type": "string"
        },
        {
         "name": "horario",
         "rawType": "object",
         "type": "string"
        },
        {
         "name": "uf",
         "rawType": "object",
         "type": "string"
        },
        {
         "name": "br",
         "rawType": "float64",
         "type": "float"
        },
        {
         "name": "km",
         "rawType": "object",
         "type": "string"
        },
        {
         "name": "municipio",
         "rawType": "object",
         "type": "string"
        },
        {
         "name": "causa_principal",
         "rawType": "object",
         "type": "string"
        },
        {
         "name": "causa_acidente",
         "rawType": "object",
         "type": "string"
        },
        {
         "name": "ordem_tipo_acidente",
         "rawType": "int64",
         "type": "integer"
        },
        {
         "name": "tipo_acidente",
         "rawType": "object",
         "type": "string"
        },
        {
         "name": "classificacao_acidente",
         "rawType": "object",
         "type": "string"
        },
        {
         "name": "fase_dia",
         "rawType": "object",
         "type": "string"
        },
        {
         "name": "sentido_via",
         "rawType": "object",
         "type": "string"
        },
        {
         "name": "condicao_metereologica",
         "rawType": "object",
         "type": "string"
        },
        {
         "name": "tipo_pista",
         "rawType": "object",
         "type": "string"
        },
        {
         "name": "tracado_via",
         "rawType": "object",
         "type": "string"
        },
        {
         "name": "uso_solo",
         "rawType": "object",
         "type": "string"
        },
        {
         "name": "id_veiculo",
         "rawType": "float64",
         "type": "float"
        },
        {
         "name": "tipo_veiculo",
         "rawType": "object",
         "type": "string"
        },
        {
         "name": "marca",
         "rawType": "object",
         "type": "string"
        },
        {
         "name": "ano_fabricacao_veiculo",
         "rawType": "float64",
         "type": "float"
        },
        {
         "name": "tipo_envolvido",
         "rawType": "object",
         "type": "string"
        },
        {
         "name": "estado_fisico",
         "rawType": "object",
         "type": "string"
        },
        {
         "name": "idade",
         "rawType": "float64",
         "type": "float"
        },
        {
         "name": "sexo",
         "rawType": "object",
         "type": "string"
        },
        {
         "name": "ilesos",
         "rawType": "float64",
         "type": "float"
        },
        {
         "name": "feridos_leves",
         "rawType": "float64",
         "type": "float"
        },
        {
         "name": "feridos_graves",
         "rawType": "float64",
         "type": "float"
        },
        {
         "name": "mortos",
         "rawType": "float64",
         "type": "float"
        },
        {
         "name": "latitude",
         "rawType": "float64",
         "type": "float"
        },
        {
         "name": "longitude",
         "rawType": "float64",
         "type": "float"
        },
        {
         "name": "regional",
         "rawType": "object",
         "type": "string"
        },
        {
         "name": "delegacia",
         "rawType": "object",
         "type": "string"
        },
        {
         "name": "uop",
         "rawType": "object",
         "type": "string"
        }
       ],
       "ref": "ac29e2ce-fe6f-42f0-be78-441c75d68987",
       "rows": [
        [
         "0",
         "571772.0",
         "1268971.0",
         "2024-01-01",
         "segunda-feira",
         "00:05:00",
         "RJ",
         "101.0",
         "272,5",
         "TANGUA",
         "Sim",
         "Reação tardia ou ineficiente do condutor",
         "1",
         "Colisão com objeto",
         "Com Vítimas Fatais",
         "Plena Noite",
         "Decrescente",
         "Céu Claro",
         "Dupla",
         "Reta",
         "Sim",
         "1018215.0",
         "Motocicleta",
         "HONDA/CG 160 FAN",
         "2023.0",
         "Condutor",
         "Óbito",
         "26.0",
         "Masculino",
         "0.0",
         "0.0",
         "0.0",
         "1.0",
         "-22.72935968",
         "-42.70112512",
         "SPRF-RJ",
         "DEL02-RJ",
         "UOP03-DEL02-RJ"
        ],
        [
         "1",
         "571774.0",
         "1268985.0",
         "2024-01-01",
         "segunda-feira",
         "00:05:00",
         "GO",
         "153.0",
         "424,6",
         "ANAPOLIS",
         "Não",
         "Animais na Pista",
         "1",
         "Colisão com objeto",
         "Sem Vítimas",
         "Plena Noite",
         "Decrescente",
         "Céu Claro",
         "Dupla",
         "Reta",
         "Não",
         "1018226.0",
         "Automóvel",
         "VW/GOL 1.6 POWER",
         "2009.0",
         "Condutor",
         "Ileso",
         "34.0",
         "Feminino",
         "1.0",
         "0.0",
         "0.0",
         "0.0",
         "-16.229185",
         "-49.009797",
         "SPRF-GO",
         "DEL02-GO",
         "UOP01-DEL02-GO"
        ],
        [
         "2",
         "571774.0",
         "1268985.0",
         "2024-01-01",
         "segunda-feira",
         "00:05:00",
         "GO",
         "153.0",
         "424,6",
         "ANAPOLIS",
         "Sim",
         "Velocidade Incompatível",
         "1",
         "Colisão com objeto",
         "Sem Vítimas",
         "Plena Noite",
         "Decrescente",
         "Céu Claro",
         "Dupla",
         "Reta",
         "Não",
         "1018226.0",
         "Automóvel",
         "VW/GOL 1.6 POWER",
         "2009.0",
         "Condutor",
         "Ileso",
         "34.0",
         "Feminino",
         "1.0",
         "0.0",
         "0.0",
         "0.0",
         "-16.229185",
         "-49.009797",
         "SPRF-GO",
         "DEL02-GO",
         "UOP01-DEL02-GO"
        ],
        [
         "3",
         "571777.0",
         "1269020.0",
         "2024-01-01",
         "segunda-feira",
         "01:45:00",
         "ES",
         "101.0",
         "264,1",
         "SERRA",
         "Sim",
         "Reação tardia ou ineficiente do condutor",
         "1",
         "Colisão com objeto",
         "Sem Vítimas",
         "Plena Noite",
         "Decrescente",
         "Nublado",
         "Múltipla",
         "Interseção de Vias;Reta",
         "Sim",
         "1018251.0",
         "Caminhonete",
         "VW/SAVEIRO 1.6",
         "2009.0",
         "Condutor",
         "Ileso",
         "55.0",
         "Masculino",
         "1.0",
         "0.0",
         "0.0",
         "0.0",
         "-20.17292791",
         "-40.26736384",
         "SPRF-ES",
         "DEL02-ES",
         "UOP01-DEL02-ES"
        ],
        [
         "4",
         "571778.0",
         "1269028.0",
         "2024-01-01",
         "segunda-feira",
         "00:45:00",
         "SC",
         "101.0",
         "110",
         "PENHA",
         "Não",
         "Reação tardia ou ineficiente do condutor",
         "1",
         "Saída de leito carroçável",
         "Com Vítimas Feridas",
         "Plena Noite",
         "Crescente",
         "Chuva",
         "Dupla",
         "Curva",
         "Não",
         "1018261.0",
         "Camioneta",
         "I/SSANGYONG ACTYON A23 4",
         "2011.0",
         "Condutor",
         "Ileso",
         "53.0",
         "Masculino",
         "1.0",
         "0.0",
         "0.0",
         "0.0",
         "-26.83477",
         "-48.706151",
         "SPRF-SC",
         "DEL03-SC",
         "UOP02-DEL03-SC"
        ]
       ],
       "shape": {
        "columns": 37,
        "rows": 5
       }
      },
      "text/html": [
       "<div>\n",
       "<style scoped>\n",
       "    .dataframe tbody tr th:only-of-type {\n",
       "        vertical-align: middle;\n",
       "    }\n",
       "\n",
       "    .dataframe tbody tr th {\n",
       "        vertical-align: top;\n",
       "    }\n",
       "\n",
       "    .dataframe thead th {\n",
       "        text-align: right;\n",
       "    }\n",
       "</style>\n",
       "<table border=\"1\" class=\"dataframe\">\n",
       "  <thead>\n",
       "    <tr style=\"text-align: right;\">\n",
       "      <th></th>\n",
       "      <th>id</th>\n",
       "      <th>pesid</th>\n",
       "      <th>data_inversa</th>\n",
       "      <th>dia_semana</th>\n",
       "      <th>horario</th>\n",
       "      <th>uf</th>\n",
       "      <th>br</th>\n",
       "      <th>km</th>\n",
       "      <th>municipio</th>\n",
       "      <th>causa_principal</th>\n",
       "      <th>...</th>\n",
       "      <th>sexo</th>\n",
       "      <th>ilesos</th>\n",
       "      <th>feridos_leves</th>\n",
       "      <th>feridos_graves</th>\n",
       "      <th>mortos</th>\n",
       "      <th>latitude</th>\n",
       "      <th>longitude</th>\n",
       "      <th>regional</th>\n",
       "      <th>delegacia</th>\n",
       "      <th>uop</th>\n",
       "    </tr>\n",
       "  </thead>\n",
       "  <tbody>\n",
       "    <tr>\n",
       "      <th>0</th>\n",
       "      <td>571772.0</td>\n",
       "      <td>1268971.0</td>\n",
       "      <td>2024-01-01</td>\n",
       "      <td>segunda-feira</td>\n",
       "      <td>00:05:00</td>\n",
       "      <td>RJ</td>\n",
       "      <td>101.0</td>\n",
       "      <td>272,5</td>\n",
       "      <td>TANGUA</td>\n",
       "      <td>Sim</td>\n",
       "      <td>...</td>\n",
       "      <td>Masculino</td>\n",
       "      <td>0.0</td>\n",
       "      <td>0.0</td>\n",
       "      <td>0.0</td>\n",
       "      <td>1.0</td>\n",
       "      <td>-22.729360</td>\n",
       "      <td>-42.701125</td>\n",
       "      <td>SPRF-RJ</td>\n",
       "      <td>DEL02-RJ</td>\n",
       "      <td>UOP03-DEL02-RJ</td>\n",
       "    </tr>\n",
       "    <tr>\n",
       "      <th>1</th>\n",
       "      <td>571774.0</td>\n",
       "      <td>1268985.0</td>\n",
       "      <td>2024-01-01</td>\n",
       "      <td>segunda-feira</td>\n",
       "      <td>00:05:00</td>\n",
       "      <td>GO</td>\n",
       "      <td>153.0</td>\n",
       "      <td>424,6</td>\n",
       "      <td>ANAPOLIS</td>\n",
       "      <td>Não</td>\n",
       "      <td>...</td>\n",
       "      <td>Feminino</td>\n",
       "      <td>1.0</td>\n",
       "      <td>0.0</td>\n",
       "      <td>0.0</td>\n",
       "      <td>0.0</td>\n",
       "      <td>-16.229185</td>\n",
       "      <td>-49.009797</td>\n",
       "      <td>SPRF-GO</td>\n",
       "      <td>DEL02-GO</td>\n",
       "      <td>UOP01-DEL02-GO</td>\n",
       "    </tr>\n",
       "    <tr>\n",
       "      <th>2</th>\n",
       "      <td>571774.0</td>\n",
       "      <td>1268985.0</td>\n",
       "      <td>2024-01-01</td>\n",
       "      <td>segunda-feira</td>\n",
       "      <td>00:05:00</td>\n",
       "      <td>GO</td>\n",
       "      <td>153.0</td>\n",
       "      <td>424,6</td>\n",
       "      <td>ANAPOLIS</td>\n",
       "      <td>Sim</td>\n",
       "      <td>...</td>\n",
       "      <td>Feminino</td>\n",
       "      <td>1.0</td>\n",
       "      <td>0.0</td>\n",
       "      <td>0.0</td>\n",
       "      <td>0.0</td>\n",
       "      <td>-16.229185</td>\n",
       "      <td>-49.009797</td>\n",
       "      <td>SPRF-GO</td>\n",
       "      <td>DEL02-GO</td>\n",
       "      <td>UOP01-DEL02-GO</td>\n",
       "    </tr>\n",
       "    <tr>\n",
       "      <th>3</th>\n",
       "      <td>571777.0</td>\n",
       "      <td>1269020.0</td>\n",
       "      <td>2024-01-01</td>\n",
       "      <td>segunda-feira</td>\n",
       "      <td>01:45:00</td>\n",
       "      <td>ES</td>\n",
       "      <td>101.0</td>\n",
       "      <td>264,1</td>\n",
       "      <td>SERRA</td>\n",
       "      <td>Sim</td>\n",
       "      <td>...</td>\n",
       "      <td>Masculino</td>\n",
       "      <td>1.0</td>\n",
       "      <td>0.0</td>\n",
       "      <td>0.0</td>\n",
       "      <td>0.0</td>\n",
       "      <td>-20.172928</td>\n",
       "      <td>-40.267364</td>\n",
       "      <td>SPRF-ES</td>\n",
       "      <td>DEL02-ES</td>\n",
       "      <td>UOP01-DEL02-ES</td>\n",
       "    </tr>\n",
       "    <tr>\n",
       "      <th>4</th>\n",
       "      <td>571778.0</td>\n",
       "      <td>1269028.0</td>\n",
       "      <td>2024-01-01</td>\n",
       "      <td>segunda-feira</td>\n",
       "      <td>00:45:00</td>\n",
       "      <td>SC</td>\n",
       "      <td>101.0</td>\n",
       "      <td>110</td>\n",
       "      <td>PENHA</td>\n",
       "      <td>Não</td>\n",
       "      <td>...</td>\n",
       "      <td>Masculino</td>\n",
       "      <td>1.0</td>\n",
       "      <td>0.0</td>\n",
       "      <td>0.0</td>\n",
       "      <td>0.0</td>\n",
       "      <td>-26.834770</td>\n",
       "      <td>-48.706151</td>\n",
       "      <td>SPRF-SC</td>\n",
       "      <td>DEL03-SC</td>\n",
       "      <td>UOP02-DEL03-SC</td>\n",
       "    </tr>\n",
       "  </tbody>\n",
       "</table>\n",
       "<p>5 rows × 37 columns</p>\n",
       "</div>"
      ],
      "text/plain": [
       "         id      pesid data_inversa     dia_semana   horario  uf     br  \\\n",
       "0  571772.0  1268971.0   2024-01-01  segunda-feira  00:05:00  RJ  101.0   \n",
       "1  571774.0  1268985.0   2024-01-01  segunda-feira  00:05:00  GO  153.0   \n",
       "2  571774.0  1268985.0   2024-01-01  segunda-feira  00:05:00  GO  153.0   \n",
       "3  571777.0  1269020.0   2024-01-01  segunda-feira  01:45:00  ES  101.0   \n",
       "4  571778.0  1269028.0   2024-01-01  segunda-feira  00:45:00  SC  101.0   \n",
       "\n",
       "      km municipio causa_principal  ...       sexo  ilesos feridos_leves  \\\n",
       "0  272,5    TANGUA             Sim  ...  Masculino     0.0           0.0   \n",
       "1  424,6  ANAPOLIS             Não  ...   Feminino     1.0           0.0   \n",
       "2  424,6  ANAPOLIS             Sim  ...   Feminino     1.0           0.0   \n",
       "3  264,1     SERRA             Sim  ...  Masculino     1.0           0.0   \n",
       "4    110     PENHA             Não  ...  Masculino     1.0           0.0   \n",
       "\n",
       "  feridos_graves mortos   latitude  longitude regional delegacia  \\\n",
       "0            0.0    1.0 -22.729360 -42.701125  SPRF-RJ  DEL02-RJ   \n",
       "1            0.0    0.0 -16.229185 -49.009797  SPRF-GO  DEL02-GO   \n",
       "2            0.0    0.0 -16.229185 -49.009797  SPRF-GO  DEL02-GO   \n",
       "3            0.0    0.0 -20.172928 -40.267364  SPRF-ES  DEL02-ES   \n",
       "4            0.0    0.0 -26.834770 -48.706151  SPRF-SC  DEL03-SC   \n",
       "\n",
       "              uop  \n",
       "0  UOP03-DEL02-RJ  \n",
       "1  UOP01-DEL02-GO  \n",
       "2  UOP01-DEL02-GO  \n",
       "3  UOP01-DEL02-ES  \n",
       "4  UOP02-DEL03-SC  \n",
       "\n",
       "[5 rows x 37 columns]"
      ]
     },
     "execution_count": 3,
     "metadata": {},
     "output_type": "execute_result"
    }
   ],
   "source": [
    "acidentes_2024 = pd.read_csv('acidentes2024_todas_causas_tipos.csv', sep=';', encoding='latin-1') \n",
    "acidentes_2024.head()"
   ]
  },
  {
   "cell_type": "code",
   "execution_count": 4,
   "id": "4372b2bf",
   "metadata": {},
   "outputs": [],
   "source": [
    "# Criando um df para análises\n",
    "df_acidentes = acidentes_2024.copy()"
   ]
  },
  {
   "cell_type": "markdown",
   "id": "46099b5d",
   "metadata": {},
   "source": [
    "#### Regra de associação: Apriori"
   ]
  },
  {
   "cell_type": "markdown",
   "id": "5448d554",
   "metadata": {},
   "source": [
    "Regra de associação considerando:\n",
    "- `Estado`\n",
    "- `Tipo de pista`"
   ]
  },
  {
   "cell_type": "code",
   "execution_count": 5,
   "id": "1d1816e8",
   "metadata": {},
   "outputs": [
    {
     "name": "stdout",
     "output_type": "stream",
     "text": [
      "Valores únicos na coluna 'uf':\n",
      "['RJ' 'GO' 'ES' 'SC' 'RS' 'PR' 'MS' 'RO' 'SP' 'MG' 'DF' 'PI' 'BA' 'PE'\n",
      " 'SE' 'PB' 'TO' 'MT' 'CE' 'AL' 'RN' 'PA' 'AC' 'MA' 'RR' 'AP' 'AM']\n",
      "\n",
      "Valores únicos na coluna 'tipo_pista':\n",
      "['Dupla' 'Múltipla' 'Simples']\n"
     ]
    }
   ],
   "source": [
    "valores_unicos_uf = df_acidentes['uf'].unique()\n",
    "valores_unicos_tipo_pista = df_acidentes['tipo_pista'].unique()\n",
    "\n",
    "print(\"Valores únicos na coluna 'uf':\")\n",
    "print(valores_unicos_uf)\n",
    "print(\"\\nValores únicos na coluna 'tipo_pista':\")\n",
    "print(valores_unicos_tipo_pista)"
   ]
  },
  {
   "cell_type": "code",
   "execution_count": 6,
   "id": "687c219e",
   "metadata": {},
   "outputs": [],
   "source": [
    "# Preparar as transações para UF e Tipo de Pista\n",
    "transacoes_uf_pista = []\n",
    "for index, row in df_acidentes.iterrows():\n",
    "    transaction = []                   \n",
    "    transaction.append(f\"uf_{row['uf']}\")  \n",
    "    transaction.append(f\"pista_{row['tipo_pista']}\")\n",
    "    transacoes_uf_pista.append(transaction)\n",
    "    \n",
    "# Converte para o formato adequado para o TransactionEncoder\n",
    "uf_pista = TransactionEncoder()\n",
    "array_uf_pista = uf_pista.fit(transacoes_uf_pista).transform(transacoes_uf_pista)\n",
    "df_encoded_uf_pista = pd.DataFrame(array_uf_pista, columns=uf_pista.columns_)"
   ]
  },
  {
   "cell_type": "code",
   "execution_count": 7,
   "id": "e9f9bd83",
   "metadata": {},
   "outputs": [],
   "source": [
    "# Aplicando Apriori com min_support 1% e a regra de associação\n",
    "frequent_itemsets_uf_pista = apriori(df_encoded_uf_pista, min_support=0.01, use_colnames=True)\n",
    "rules_uf_pista = association_rules(frequent_itemsets_uf_pista, metric=\"lift\", min_threshold=1.0)"
   ]
  },
  {
   "cell_type": "code",
   "execution_count": 8,
   "id": "42d5a9ee",
   "metadata": {},
   "outputs": [],
   "source": [
    "colunas_para_remover = ['representativity', 'leverage', 'conviction', 'zhangs_metric', 'jaccard', 'certainty', 'kulczynski']\n",
    "rules_uf = rules_uf_pista.drop(columns=colunas_para_remover, axis=1)\n",
    "rules_uf = rules_uf.sort_values(by='confidence', ascending=False)"
   ]
  },
  {
   "cell_type": "code",
   "execution_count": 9,
   "id": "cfcfdaf6",
   "metadata": {},
   "outputs": [
    {
     "data": {
      "application/vnd.microsoft.datawrangler.viewer.v0+json": {
       "columns": [
        {
         "name": "index",
         "rawType": "int64",
         "type": "integer"
        },
        {
         "name": "antecedents",
         "rawType": "object",
         "type": "unknown"
        },
        {
         "name": "consequents",
         "rawType": "object",
         "type": "unknown"
        },
        {
         "name": "antecedent support",
         "rawType": "float64",
         "type": "float"
        },
        {
         "name": "consequent support",
         "rawType": "float64",
         "type": "float"
        },
        {
         "name": "support",
         "rawType": "float64",
         "type": "float"
        },
        {
         "name": "confidence",
         "rawType": "float64",
         "type": "float"
        },
        {
         "name": "lift",
         "rawType": "float64",
         "type": "float"
        }
       ],
       "ref": "e1e3c766-e780-4a19-9920-9062d6984b8f",
       "rows": [
        [
         "28",
         "frozenset({'uf_MS'})",
         "frozenset({'pista_Simples'})",
         "0.03541357559079267",
         "0.5492883963429291",
         "0.030037383022637035",
         "0.8481883718752926",
         "1.544158546807815"
        ],
        [
         "0",
         "frozenset({'uf_DF'})",
         "frozenset({'pista_Dupla'})",
         "0.014639887933821275",
         "0.36637019968004775",
         "0.012216208151322497",
         "0.8344468350130223",
         "2.2776056451691415"
        ],
        [
         "20",
         "frozenset({'uf_BA'})",
         "frozenset({'pista_Simples'})",
         "0.057821837984798126",
         "0.5492883963429291",
         "0.04667158475833658",
         "0.8071619025774822",
         "1.469468330209471"
        ],
        [
         "40",
         "frozenset({'uf_TO'})",
         "frozenset({'pista_Simples'})",
         "0.018759480450585612",
         "0.5492883963429291",
         "0.01494657791997878",
         "0.7967479674796748",
         "1.450509373189549"
        ],
        [
         "32",
         "frozenset({'uf_PA'})",
         "frozenset({'pista_Simples'})",
         "0.02770653912783999",
         "0.5492883963429291",
         "0.022075047868504595",
         "0.7967450487644349",
         "1.4505040595596612"
        ]
       ],
       "shape": {
        "columns": 7,
        "rows": 5
       }
      },
      "text/html": [
       "<div>\n",
       "<style scoped>\n",
       "    .dataframe tbody tr th:only-of-type {\n",
       "        vertical-align: middle;\n",
       "    }\n",
       "\n",
       "    .dataframe tbody tr th {\n",
       "        vertical-align: top;\n",
       "    }\n",
       "\n",
       "    .dataframe thead th {\n",
       "        text-align: right;\n",
       "    }\n",
       "</style>\n",
       "<table border=\"1\" class=\"dataframe\">\n",
       "  <thead>\n",
       "    <tr style=\"text-align: right;\">\n",
       "      <th></th>\n",
       "      <th>antecedents</th>\n",
       "      <th>consequents</th>\n",
       "      <th>antecedent support</th>\n",
       "      <th>consequent support</th>\n",
       "      <th>support</th>\n",
       "      <th>confidence</th>\n",
       "      <th>lift</th>\n",
       "    </tr>\n",
       "  </thead>\n",
       "  <tbody>\n",
       "    <tr>\n",
       "      <th>28</th>\n",
       "      <td>(uf_MS)</td>\n",
       "      <td>(pista_Simples)</td>\n",
       "      <td>0.035414</td>\n",
       "      <td>0.549288</td>\n",
       "      <td>0.030037</td>\n",
       "      <td>0.848188</td>\n",
       "      <td>1.544159</td>\n",
       "    </tr>\n",
       "    <tr>\n",
       "      <th>0</th>\n",
       "      <td>(uf_DF)</td>\n",
       "      <td>(pista_Dupla)</td>\n",
       "      <td>0.014640</td>\n",
       "      <td>0.366370</td>\n",
       "      <td>0.012216</td>\n",
       "      <td>0.834447</td>\n",
       "      <td>2.277606</td>\n",
       "    </tr>\n",
       "    <tr>\n",
       "      <th>20</th>\n",
       "      <td>(uf_BA)</td>\n",
       "      <td>(pista_Simples)</td>\n",
       "      <td>0.057822</td>\n",
       "      <td>0.549288</td>\n",
       "      <td>0.046672</td>\n",
       "      <td>0.807162</td>\n",
       "      <td>1.469468</td>\n",
       "    </tr>\n",
       "    <tr>\n",
       "      <th>40</th>\n",
       "      <td>(uf_TO)</td>\n",
       "      <td>(pista_Simples)</td>\n",
       "      <td>0.018759</td>\n",
       "      <td>0.549288</td>\n",
       "      <td>0.014947</td>\n",
       "      <td>0.796748</td>\n",
       "      <td>1.450509</td>\n",
       "    </tr>\n",
       "    <tr>\n",
       "      <th>32</th>\n",
       "      <td>(uf_PA)</td>\n",
       "      <td>(pista_Simples)</td>\n",
       "      <td>0.027707</td>\n",
       "      <td>0.549288</td>\n",
       "      <td>0.022075</td>\n",
       "      <td>0.796745</td>\n",
       "      <td>1.450504</td>\n",
       "    </tr>\n",
       "  </tbody>\n",
       "</table>\n",
       "</div>"
      ],
      "text/plain": [
       "   antecedents      consequents  antecedent support  consequent support  \\\n",
       "28     (uf_MS)  (pista_Simples)            0.035414            0.549288   \n",
       "0      (uf_DF)    (pista_Dupla)            0.014640            0.366370   \n",
       "20     (uf_BA)  (pista_Simples)            0.057822            0.549288   \n",
       "40     (uf_TO)  (pista_Simples)            0.018759            0.549288   \n",
       "32     (uf_PA)  (pista_Simples)            0.027707            0.549288   \n",
       "\n",
       "     support  confidence      lift  \n",
       "28  0.030037    0.848188  1.544159  \n",
       "0   0.012216    0.834447  2.277606  \n",
       "20  0.046672    0.807162  1.469468  \n",
       "40  0.014947    0.796748  1.450509  \n",
       "32  0.022075    0.796745  1.450504  "
      ]
     },
     "execution_count": 9,
     "metadata": {},
     "output_type": "execute_result"
    }
   ],
   "source": [
    "rules_uf.head()"
   ]
  },
  {
   "cell_type": "code",
   "execution_count": 23,
   "id": "0dbca57f",
   "metadata": {},
   "outputs": [
    {
     "name": "stdout",
     "output_type": "stream",
     "text": [
      "Top 5 associações\n",
      "\n",
      "Acidentes que ocorreram em 'uf_MS' também ocorreram em 'pista_Simples', com 84.82% de confiança.\n",
      "\n",
      "Acidentes que ocorreram em 'uf_DF' também ocorreram em 'pista_Dupla', com 83.44% de confiança.\n",
      "\n",
      "Acidentes que ocorreram em 'uf_BA' também ocorreram em 'pista_Simples', com 80.72% de confiança.\n",
      "\n",
      "Acidentes que ocorreram em 'uf_TO' também ocorreram em 'pista_Simples', com 79.67% de confiança.\n",
      "\n",
      "Acidentes que ocorreram em 'uf_PA' também ocorreram em 'pista_Simples', com 79.67% de confiança.\n",
      "\n"
     ]
    }
   ],
   "source": [
    "# Ordena regras por confiança e pega top 5\n",
    "top_5_confidence = rules_uf.sort_values(by='confidence', ascending=False).head(5)\n",
    "\n",
    "print(\"Top 5 associações\\n\")\n",
    "\n",
    "for _, row in top_5_confidence.iterrows():\n",
    "    antecedents = ', '.join(list(row['antecedents']))\n",
    "    consequents = ', '.join(list(row['consequents']))\n",
    "\n",
    "    support_pct = row['support'] * 100\n",
    "    confidence_pct = row['confidence'] * 100\n",
    "    lift_value = row['lift']\n",
    "\n",
    "    print(f\"Acidentes que ocorreram em '{antecedents}' também ocorreram em '{consequents}', com {confidence_pct:.2f}% de confiança.\")\n",
    "    print()  "
   ]
  },
  {
   "cell_type": "markdown",
   "id": "da418941",
   "metadata": {},
   "source": [
    "Regra de associação considerando:\n",
    "- `Condição meteorológica`\n",
    "- `Fase do dia`"
   ]
  },
  {
   "cell_type": "code",
   "execution_count": 11,
   "id": "db0b4bb9",
   "metadata": {},
   "outputs": [
    {
     "name": "stdout",
     "output_type": "stream",
     "text": [
      "Valores únicos na coluna 'condição meteorologica':\n",
      "['Céu Claro' 'Nublado' 'Chuva' 'Garoa/Chuvisco' 'Sol' 'Ignorado'\n",
      " 'Nevoeiro/Neblina' 'Vento' 'Neve' 'Granizo']\n",
      "\n",
      "Valores únicos na coluna 'fase dia':\n",
      "['Plena Noite' 'Amanhecer' 'Pleno dia' 'Anoitecer']\n"
     ]
    }
   ],
   "source": [
    "valores_unicos_condicao_meteorologica = df_acidentes['condicao_metereologica'].unique()\n",
    "valores_unicos_fase_dia = df_acidentes['fase_dia'].unique()\n",
    "\n",
    "print(\"Valores únicos na coluna 'condição meteorologica':\")\n",
    "print(valores_unicos_condicao_meteorologica)\n",
    "print(\"\\nValores únicos na coluna 'fase dia':\")\n",
    "print(valores_unicos_fase_dia)"
   ]
  },
  {
   "cell_type": "code",
   "execution_count": 12,
   "id": "b6c1b660",
   "metadata": {},
   "outputs": [],
   "source": [
    "# Preparar as transações para Condição Meteorológica e Fase do Dia\n",
    "transactions_condicao_fase = []\n",
    "for index, row in df_acidentes.iterrows():\n",
    "    transaction = []   \n",
    "    transaction.append(f\"condicao_{row['condicao_metereologica']}\")\n",
    "    transaction.append(f\"fase_{row['fase_dia']}\")\n",
    "    transactions_condicao_fase.append(transaction)\n",
    "\n",
    "# Converte para o formato adequado para o TransactionEncoder\n",
    "condicao_fase = TransactionEncoder()\n",
    "array_condicao_fase = condicao_fase.fit(transactions_condicao_fase).transform(transactions_condicao_fase)\n",
    "df_encoded_condicao_fase = pd.DataFrame(array_condicao_fase, columns=condicao_fase.columns_)"
   ]
  },
  {
   "cell_type": "code",
   "execution_count": 13,
   "id": "7fc01877",
   "metadata": {},
   "outputs": [],
   "source": [
    "# Aplicando Apriori com min_support 1% e a regra de associação\n",
    "frequent_itemsets_condicao_fase = apriori(df_encoded_condicao_fase, min_support=0.01, use_colnames=True)\n",
    "rules_condicao_fase = association_rules(frequent_itemsets_condicao_fase, metric=\"lift\", min_threshold=1.0)"
   ]
  },
  {
   "cell_type": "code",
   "execution_count": 14,
   "id": "4967269e",
   "metadata": {},
   "outputs": [],
   "source": [
    "rules_condicao = rules_condicao_fase.drop(columns=colunas_para_remover, axis=1)\n",
    "rules_condicao = rules_condicao.sort_values(by='confidence', ascending=False)"
   ]
  },
  {
   "cell_type": "code",
   "execution_count": 15,
   "id": "52bdc10c",
   "metadata": {},
   "outputs": [
    {
     "data": {
      "application/vnd.microsoft.datawrangler.viewer.v0+json": {
       "columns": [
        {
         "name": "index",
         "rawType": "int64",
         "type": "integer"
        },
        {
         "name": "antecedents",
         "rawType": "object",
         "type": "unknown"
        },
        {
         "name": "consequents",
         "rawType": "object",
         "type": "unknown"
        },
        {
         "name": "antecedent support",
         "rawType": "float64",
         "type": "float"
        },
        {
         "name": "consequent support",
         "rawType": "float64",
         "type": "float"
        },
        {
         "name": "support",
         "rawType": "float64",
         "type": "float"
        },
        {
         "name": "confidence",
         "rawType": "float64",
         "type": "float"
        },
        {
         "name": "lift",
         "rawType": "float64",
         "type": "float"
        }
       ],
       "ref": "1bb40ae2-96f1-483d-a4c0-a70fbafe24e5",
       "rows": [
        [
         "9",
         "frozenset({'condicao_Sol'})",
         "frozenset({'fase_Pleno dia'})",
         "0.05391941513390748",
         "0.5417968717621412",
         "0.05251029898129191",
         "0.9738662567255957",
         "1.7974748609348576"
        ],
        [
         "2",
         "frozenset({'fase_Plena Noite'})",
         "frozenset({'condicao_Céu Claro'})",
         "0.349008230896115",
         "0.6203426638926419",
         "0.22188440274197427",
         "0.6357569337899652",
         "1.0248479925604326"
        ],
        [
         "5",
         "frozenset({'condicao_Garoa/Chuvisco'})",
         "frozenset({'fase_Plena Noite'})",
         "0.04375222764685891",
         "0.349008230896115",
         "0.019666288139386454",
         "0.4494922703849652",
         "1.2879130937137127"
        ],
        [
         "7",
         "frozenset({'condicao_Nublado'})",
         "frozenset({'fase_Plena Noite'})",
         "0.14539426241058329",
         "0.349008230896115",
         "0.05482953839012624",
         "0.3771093678737572",
         "1.080517118193716"
        ],
        [
         "3",
         "frozenset({'condicao_Céu Claro'})",
         "frozenset({'fase_Plena Noite'})",
         "0.6203426638926419",
         "0.349008230896115",
         "0.22188440274197427",
         "0.3576803848209514",
         "1.0248479925604326"
        ]
       ],
       "shape": {
        "columns": 7,
        "rows": 5
       }
      },
      "text/html": [
       "<div>\n",
       "<style scoped>\n",
       "    .dataframe tbody tr th:only-of-type {\n",
       "        vertical-align: middle;\n",
       "    }\n",
       "\n",
       "    .dataframe tbody tr th {\n",
       "        vertical-align: top;\n",
       "    }\n",
       "\n",
       "    .dataframe thead th {\n",
       "        text-align: right;\n",
       "    }\n",
       "</style>\n",
       "<table border=\"1\" class=\"dataframe\">\n",
       "  <thead>\n",
       "    <tr style=\"text-align: right;\">\n",
       "      <th></th>\n",
       "      <th>antecedents</th>\n",
       "      <th>consequents</th>\n",
       "      <th>antecedent support</th>\n",
       "      <th>consequent support</th>\n",
       "      <th>support</th>\n",
       "      <th>confidence</th>\n",
       "      <th>lift</th>\n",
       "    </tr>\n",
       "  </thead>\n",
       "  <tbody>\n",
       "    <tr>\n",
       "      <th>9</th>\n",
       "      <td>(condicao_Sol)</td>\n",
       "      <td>(fase_Pleno dia)</td>\n",
       "      <td>0.053919</td>\n",
       "      <td>0.541797</td>\n",
       "      <td>0.052510</td>\n",
       "      <td>0.973866</td>\n",
       "      <td>1.797475</td>\n",
       "    </tr>\n",
       "    <tr>\n",
       "      <th>2</th>\n",
       "      <td>(fase_Plena Noite)</td>\n",
       "      <td>(condicao_Céu Claro)</td>\n",
       "      <td>0.349008</td>\n",
       "      <td>0.620343</td>\n",
       "      <td>0.221884</td>\n",
       "      <td>0.635757</td>\n",
       "      <td>1.024848</td>\n",
       "    </tr>\n",
       "    <tr>\n",
       "      <th>5</th>\n",
       "      <td>(condicao_Garoa/Chuvisco)</td>\n",
       "      <td>(fase_Plena Noite)</td>\n",
       "      <td>0.043752</td>\n",
       "      <td>0.349008</td>\n",
       "      <td>0.019666</td>\n",
       "      <td>0.449492</td>\n",
       "      <td>1.287913</td>\n",
       "    </tr>\n",
       "    <tr>\n",
       "      <th>7</th>\n",
       "      <td>(condicao_Nublado)</td>\n",
       "      <td>(fase_Plena Noite)</td>\n",
       "      <td>0.145394</td>\n",
       "      <td>0.349008</td>\n",
       "      <td>0.054830</td>\n",
       "      <td>0.377109</td>\n",
       "      <td>1.080517</td>\n",
       "    </tr>\n",
       "    <tr>\n",
       "      <th>3</th>\n",
       "      <td>(condicao_Céu Claro)</td>\n",
       "      <td>(fase_Plena Noite)</td>\n",
       "      <td>0.620343</td>\n",
       "      <td>0.349008</td>\n",
       "      <td>0.221884</td>\n",
       "      <td>0.357680</td>\n",
       "      <td>1.024848</td>\n",
       "    </tr>\n",
       "  </tbody>\n",
       "</table>\n",
       "</div>"
      ],
      "text/plain": [
       "                 antecedents           consequents  antecedent support  \\\n",
       "9             (condicao_Sol)      (fase_Pleno dia)            0.053919   \n",
       "2         (fase_Plena Noite)  (condicao_Céu Claro)            0.349008   \n",
       "5  (condicao_Garoa/Chuvisco)    (fase_Plena Noite)            0.043752   \n",
       "7         (condicao_Nublado)    (fase_Plena Noite)            0.145394   \n",
       "3       (condicao_Céu Claro)    (fase_Plena Noite)            0.620343   \n",
       "\n",
       "   consequent support   support  confidence      lift  \n",
       "9            0.541797  0.052510    0.973866  1.797475  \n",
       "2            0.620343  0.221884    0.635757  1.024848  \n",
       "5            0.349008  0.019666    0.449492  1.287913  \n",
       "7            0.349008  0.054830    0.377109  1.080517  \n",
       "3            0.349008  0.221884    0.357680  1.024848  "
      ]
     },
     "execution_count": 15,
     "metadata": {},
     "output_type": "execute_result"
    }
   ],
   "source": [
    "rules_condicao.head()"
   ]
  },
  {
   "cell_type": "code",
   "execution_count": 24,
   "id": "79c0d2e5",
   "metadata": {},
   "outputs": [
    {
     "name": "stdout",
     "output_type": "stream",
     "text": [
      "Top 5 associações\n",
      "\n",
      "Acidentes que ocorreram com 'condicao_Sol' também ocorreram em 'fase_Pleno dia', com 97.39% de confiança.\n",
      "\n",
      "Acidentes que ocorreram com 'fase_Plena Noite' também ocorreram em 'condicao_Céu Claro', com 63.58% de confiança.\n",
      "\n",
      "Acidentes que ocorreram com 'condicao_Garoa/Chuvisco' também ocorreram em 'fase_Plena Noite', com 44.95% de confiança.\n",
      "\n",
      "Acidentes que ocorreram com 'condicao_Nublado' também ocorreram em 'fase_Plena Noite', com 37.71% de confiança.\n",
      "\n",
      "Acidentes que ocorreram com 'condicao_Céu Claro' também ocorreram em 'fase_Plena Noite', com 35.77% de confiança.\n",
      "\n"
     ]
    }
   ],
   "source": [
    "# Ordena regras por confiança e pega top 5\n",
    "top_5_confidence = rules_condicao.sort_values(by='confidence', ascending=False).head(5)\n",
    "\n",
    "print(\"Top 5 associações\\n\")\n",
    "\n",
    "for _, row in top_5_confidence.iterrows():\n",
    "    antecedents = ', '.join(list(row['antecedents']))\n",
    "    consequents = ', '.join(list(row['consequents']))\n",
    "\n",
    "    support_pct = row['support'] * 100\n",
    "    confidence_pct = row['confidence'] * 100\n",
    "    lift_value = row['lift']\n",
    "\n",
    "    print(f\"Acidentes que ocorreram com '{antecedents}' também ocorreram em '{consequents}', com {confidence_pct:.2f}% de confiança.\")\n",
    "    print()  "
   ]
  },
  {
   "cell_type": "markdown",
   "id": "1cd9a966",
   "metadata": {},
   "source": [
    "Regra de associação considerando:\n",
    "- `Tipos de pista`\n",
    "-  `Acidentes com ferimentos graves e morte`"
   ]
  },
  {
   "cell_type": "code",
   "execution_count": 29,
   "id": "952db426",
   "metadata": {},
   "outputs": [
    {
     "data": {
      "application/vnd.microsoft.datawrangler.viewer.v0+json": {
       "columns": [
        {
         "name": "index",
         "rawType": "int64",
         "type": "integer"
        },
        {
         "name": "antecedents",
         "rawType": "object",
         "type": "unknown"
        },
        {
         "name": "consequents",
         "rawType": "object",
         "type": "unknown"
        },
        {
         "name": "support",
         "rawType": "float64",
         "type": "float"
        },
        {
         "name": "confidence",
         "rawType": "float64",
         "type": "float"
        },
        {
         "name": "lift",
         "rawType": "float64",
         "type": "float"
        }
       ],
       "ref": "39706225-52ee-45b9-aec9-2a27bbbae49c",
       "rows": [
        [
         "1",
         "frozenset({'pista_Dupla'})",
         "frozenset({'ferimentos_graves'})",
         "0.03600208880747329",
         "0.09826696832579186",
         "0.8529182033820044"
        ],
        [
         "3",
         "frozenset({'pista_Simples'})",
         "frozenset({'ferimentos_graves'})",
         "0.0716510696849382",
         "0.13044344312018807",
         "1.1321972077145277"
        ],
        [
         "5",
         "frozenset({'pista_Simples'})",
         "frozenset({'óbitos'})",
         "0.036660228939930206",
         "0.06674131327733832",
         "1.3505320794562103"
        ]
       ],
       "shape": {
        "columns": 5,
        "rows": 3
       }
      },
      "text/html": [
       "<div>\n",
       "<style scoped>\n",
       "    .dataframe tbody tr th:only-of-type {\n",
       "        vertical-align: middle;\n",
       "    }\n",
       "\n",
       "    .dataframe tbody tr th {\n",
       "        vertical-align: top;\n",
       "    }\n",
       "\n",
       "    .dataframe thead th {\n",
       "        text-align: right;\n",
       "    }\n",
       "</style>\n",
       "<table border=\"1\" class=\"dataframe\">\n",
       "  <thead>\n",
       "    <tr style=\"text-align: right;\">\n",
       "      <th></th>\n",
       "      <th>antecedents</th>\n",
       "      <th>consequents</th>\n",
       "      <th>support</th>\n",
       "      <th>confidence</th>\n",
       "      <th>lift</th>\n",
       "    </tr>\n",
       "  </thead>\n",
       "  <tbody>\n",
       "    <tr>\n",
       "      <th>1</th>\n",
       "      <td>(pista_Dupla)</td>\n",
       "      <td>(ferimentos_graves)</td>\n",
       "      <td>0.036002</td>\n",
       "      <td>0.098267</td>\n",
       "      <td>0.852918</td>\n",
       "    </tr>\n",
       "    <tr>\n",
       "      <th>3</th>\n",
       "      <td>(pista_Simples)</td>\n",
       "      <td>(ferimentos_graves)</td>\n",
       "      <td>0.071651</td>\n",
       "      <td>0.130443</td>\n",
       "      <td>1.132197</td>\n",
       "    </tr>\n",
       "    <tr>\n",
       "      <th>5</th>\n",
       "      <td>(pista_Simples)</td>\n",
       "      <td>(óbitos)</td>\n",
       "      <td>0.036660</td>\n",
       "      <td>0.066741</td>\n",
       "      <td>1.350532</td>\n",
       "    </tr>\n",
       "  </tbody>\n",
       "</table>\n",
       "</div>"
      ],
      "text/plain": [
       "       antecedents          consequents   support  confidence      lift\n",
       "1    (pista_Dupla)  (ferimentos_graves)  0.036002    0.098267  0.852918\n",
       "3  (pista_Simples)  (ferimentos_graves)  0.071651    0.130443  1.132197\n",
       "5  (pista_Simples)             (óbitos)  0.036660    0.066741  1.350532"
      ]
     },
     "execution_count": 29,
     "metadata": {},
     "output_type": "execute_result"
    }
   ],
   "source": [
    "# Renomeando colunas\n",
    "df_acidentes = df_acidentes.rename(columns={\"tem_ferido_grave\": \"ferimentos_graves\", \"tem_morto\": \"óbitos\"})\n",
    "\n",
    "df_acidentes['ferimentos_graves'] = df_acidentes['feridos_graves'] > 0\n",
    "df_acidentes['óbitos'] = df_acidentes['mortos'] > 0\n",
    "\n",
    "pistas = pd.get_dummies(df_acidentes['tipo_pista'], prefix='pista')\n",
    "df_apriori = pd.concat([pistas, df_acidentes[['ferimentos_graves', 'óbitos']]], axis=1).astype(bool)\n",
    "\n",
    "frequentes = apriori(df_apriori, min_support=0.01, use_colnames=True)\n",
    "regras = association_rules(frequentes, metric=\"lift\", min_threshold=0.8)\n",
    "\n",
    "regras_pista = regras[regras['antecedents'].apply(lambda x: any(item.startswith('pista_') for item in x))]\n",
    "regras_pista[['antecedents', 'consequents', 'support', 'confidence', 'lift']]\n"
   ]
  },
  {
   "cell_type": "code",
   "execution_count": 33,
   "id": "0c75a70c",
   "metadata": {},
   "outputs": [
    {
     "name": "stdout",
     "output_type": "stream",
     "text": [
      "Top 5 associações\n",
      "\n",
      "Acidentes que ocorreram em 'pista_Simples' também apresentaram 'ferimentos_graves', com 13.04% de confiança.\n",
      "\n",
      "Acidentes que ocorreram em 'pista_Dupla' também apresentaram 'ferimentos_graves', com 9.83% de confiança.\n",
      "\n",
      "Acidentes que ocorreram em 'pista_Simples' também apresentaram 'óbitos', com 6.67% de confiança.\n",
      "\n"
     ]
    }
   ],
   "source": [
    "# Ordena regras por confiança e pega top 5\n",
    "top_5_confidence = regras_pista.sort_values(by='confidence', ascending=False).head(5)\n",
    "\n",
    "print(\"Top 5 associações\\n\")\n",
    "\n",
    "for _, row in top_5_confidence.iterrows():\n",
    "    antecedents = ', '.join(list(row['antecedents']))\n",
    "    consequents = ', '.join(list(row['consequents']))\n",
    "\n",
    "    support_pct = row['support'] * 100\n",
    "    confidence_pct = row['confidence'] * 100\n",
    "    lift_value = row['lift']\n",
    "\n",
    "    print(f\"Acidentes que ocorreram em '{antecedents}' também apresentaram '{consequents}', com {confidence_pct:.2f}% de confiança.\")\n",
    "    print()  "
   ]
  },
  {
   "cell_type": "markdown",
   "id": "a06c5c80",
   "metadata": {},
   "source": [
    "#### Considerações Finais"
   ]
  },
  {
   "cell_type": "markdown",
   "id": "3b111a67",
   "metadata": {},
   "source": [
    "___\n",
    "\n",
    "Nesta etapa foi aplicado mineração por regras de associação (Apriori) a pares de variáveis  como (Estado, tipo de pista, traçado, condição meteorológica e fase do dia) com objetivo de identificar co‑ocorrências relevantes em acidentes rodoviários. \n",
    "\n",
    "Os principais achados mostram que certas UFs (por exemplo MS, BA, TO, PA) apresentam alta probabilidade de ocorrer em pistas do tipo 'Simples' (confiança entre ≈79% e 85%; lift entre ≈1.45 e 1.54), enquanto o DF se destaca por sua forte associação com pista 'Dupla' (confiança ≈83%; lift ≈2.28). \n",
    "\n",
    "Esses resultados fornecem pistas úteis para priorização de ações: trechos de pista simples devem ser avaliados quanto à infraestrutura e medidas de mitigação da gravidade (melhoria do acostamento, iluminação e dispositivos de contenção), e políticas específicas por estado podem ser mais eficientes do que intervenções generalistas. \n",
    "\n",
    "Para trabalhos futuros, é possível realizar uma análise estatística mais aprofundada que teste até que ponto as correlações identificadas podem indicar causalidade."
   ]
  }
 ],
 "metadata": {
  "kernelspec": {
   "display_name": "base",
   "language": "python",
   "name": "python3"
  },
  "language_info": {
   "codemirror_mode": {
    "name": "ipython",
    "version": 3
   },
   "file_extension": ".py",
   "mimetype": "text/x-python",
   "name": "python",
   "nbconvert_exporter": "python",
   "pygments_lexer": "ipython3",
   "version": "3.13.5"
  }
 },
 "nbformat": 4,
 "nbformat_minor": 5
}
